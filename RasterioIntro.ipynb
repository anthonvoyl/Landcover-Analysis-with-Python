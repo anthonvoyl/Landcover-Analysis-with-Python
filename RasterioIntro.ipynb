{
 "cells": [
  {
   "metadata": {},
   "cell_type": "markdown",
   "source": [
    "# Analyse de données géospatiales avec Python\n",
    "\n",
    "## Landsat Data Access\n",
    "\n",
    "https://www.usgs.gov/landsat-missions/landsat-data-access\n",
    "\n",
    "Good intro to Landsat images, naming convention: https://www.earthdatascience.org/courses/earth-analytics/multispectral-remote-sensing-data/landsat-data-in-r-geotiff/\n",
    "\n",
    "## Rasterion quickstart\n",
    "\n",
    "https://rasterio.readthedocs.io/en/stable/quickstart.html#id2\n",
    "\n",
    "The following adapted script 'total.py' comes from the rasterio's github page. It takes the 'RGB.byte.tif' image"
   ],
   "id": "1a080507be724c42"
  },
  {
   "metadata": {
    "ExecuteTime": {
     "end_time": "2024-12-20T10:54:29.095938Z",
     "start_time": "2024-12-20T10:54:29.062977Z"
    }
   },
   "cell_type": "code",
   "source": [
    "# from __future__ import division\n",
    "import numpy as np\n",
    "import rasterio\n",
    "import subprocess\n",
    "\n",
    "# Read raster bands directly to Numpy arrays.\n",
    "with rasterio.open('data/RGB.byte.tif') as src:\n",
    "    r, g, b = src.read()\n",
    "\n",
    "    # Combine arrays using the 'iadd' ufunc. Expecting that the sum will\n",
    "    # exceed the 8-bit integer range, initialize it as 16-bit. Adding other\n",
    "    # arrays to it in-place converts those arrays up and preserves the type\n",
    "    # of the total array.\n",
    "    total = np.zeros(r.shape, dtype=rasterio.uint16)\n",
    "    for band in (r, g, b):\n",
    "        total += band\n",
    "    total = total // 3\n",
    "\n",
    "    # Write the product as a raster band to a new 8-bit file. For keyword\n",
    "    # arguments, we start with the meta attributes of the source file, but\n",
    "    # then change the band count to 1, set the dtype to uint8, and specify\n",
    "    # LZW compression.\n",
    "    kwargs = src.meta\n",
    "    kwargs.update(\n",
    "        dtype=rasterio.uint8,\n",
    "        count=1,\n",
    "        compress='lzw')\n",
    "\n",
    "    with rasterio.open('./data/example-total.tif', 'w', **kwargs) as dst:\n",
    "        dst.write(total.astype(rasterio.uint8), indexes=1)"
   ],
   "id": "1714fd29e29abc4a",
   "outputs": [],
   "execution_count": 6
  },
  {
   "metadata": {},
   "cell_type": "markdown",
   "source": "Now that we have the missing \"example.tif\" file we can follow the quickstart",
   "id": "b68529b93bd48ec0"
  },
  {
   "metadata": {
    "ExecuteTime": {
     "end_time": "2024-12-20T10:55:48.316958Z",
     "start_time": "2024-12-20T10:55:48.307064Z"
    }
   },
   "cell_type": "code",
   "source": "dataset = rasterio.open('./data/example-total.tif')",
   "id": "32ba1f5a3fa03698",
   "outputs": [],
   "execution_count": 7
  },
  {
   "metadata": {},
   "cell_type": "markdown",
   "source": "Rasterio’s open() function takes a path string or path-like object and returns an opened dataset object. The path may point to a file of any supported raster format. Rasterio will open it using the proper GDAL format driver. Dataset objects have some of the same attributes as Python file objects.",
   "id": "4df6baea6bcbdc20"
  },
  {
   "metadata": {
    "ExecuteTime": {
     "end_time": "2024-12-20T10:57:09.640198Z",
     "start_time": "2024-12-20T10:57:09.626358Z"
    }
   },
   "cell_type": "code",
   "source": "dataset.name",
   "id": "4c82b5875fe02ebb",
   "outputs": [
    {
     "data": {
      "text/plain": [
       "'./data/example-total.tif'"
      ]
     },
     "execution_count": 8,
     "metadata": {},
     "output_type": "execute_result"
    }
   ],
   "execution_count": 8
  },
  {
   "metadata": {
    "ExecuteTime": {
     "end_time": "2024-12-20T10:57:25.667726Z",
     "start_time": "2024-12-20T10:57:25.658901Z"
    }
   },
   "cell_type": "code",
   "source": "dataset.mode",
   "id": "a4591345548d3c9",
   "outputs": [
    {
     "data": {
      "text/plain": [
       "'r'"
      ]
     },
     "execution_count": 9,
     "metadata": {},
     "output_type": "execute_result"
    }
   ],
   "execution_count": 9
  },
  {
   "metadata": {
    "ExecuteTime": {
     "end_time": "2024-12-20T10:57:27.128163Z",
     "start_time": "2024-12-20T10:57:27.119877Z"
    }
   },
   "cell_type": "code",
   "source": "dataset.closed",
   "id": "ec67493d8756b5ed",
   "outputs": [
    {
     "data": {
      "text/plain": [
       "False"
      ]
     },
     "execution_count": 10,
     "metadata": {},
     "output_type": "execute_result"
    }
   ],
   "execution_count": 10
  },
  {
   "metadata": {},
   "cell_type": "markdown",
   "source": [
    "### Dataset attributes\n",
    "\n",
    "Properties of the raster data stored in the example GeoTIFF can be accessed through attributes of the opened dataset object. Dataset objects have bands and this example has a band count of 1."
   ],
   "id": "ffff0d52ba39146f"
  },
  {
   "metadata": {
    "ExecuteTime": {
     "end_time": "2024-12-20T13:04:00.487678Z",
     "start_time": "2024-12-20T13:04:00.478379Z"
    }
   },
   "cell_type": "code",
   "source": "dataset.count",
   "id": "5ac209a1a71c6853",
   "outputs": [
    {
     "data": {
      "text/plain": [
       "1"
      ]
     },
     "execution_count": 11,
     "metadata": {},
     "output_type": "execute_result"
    }
   ],
   "execution_count": 11
  },
  {
   "metadata": {},
   "cell_type": "markdown",
   "source": "A dataset band is an array of values representing the partial distribution of a single variable in 2-dimensional (2D) space. All band arrays of a dataset have the same number of rows and columns. The variable represented by the example dataset’s sole band is Level-1 digital numbers (DN) for the Landsat 8 Operational Land Imager (OLI) band 4 (wavelengths between 640-670 nanometers). These values can be scaled to radiance or reflectance values. The array of DN values is 7731 columns wide and 7871 rows high.",
   "id": "7ea2c8e1ecd9642d"
  },
  {
   "metadata": {
    "ExecuteTime": {
     "end_time": "2024-12-20T13:05:50.468204Z",
     "start_time": "2024-12-20T13:05:50.460110Z"
    }
   },
   "cell_type": "code",
   "source": "dataset.width",
   "id": "da4d28b2125ae7a8",
   "outputs": [
    {
     "data": {
      "text/plain": [
       "791"
      ]
     },
     "execution_count": 12,
     "metadata": {},
     "output_type": "execute_result"
    }
   ],
   "execution_count": 12
  },
  {
   "metadata": {
    "ExecuteTime": {
     "end_time": "2024-12-20T13:06:05.009592Z",
     "start_time": "2024-12-20T13:06:05.002664Z"
    }
   },
   "cell_type": "code",
   "source": "dataset.height",
   "id": "d001d565d3215e1",
   "outputs": [
    {
     "data": {
      "text/plain": [
       "718"
      ]
     },
     "execution_count": 13,
     "metadata": {},
     "output_type": "execute_result"
    }
   ],
   "execution_count": 13
  },
  {
   "metadata": {},
   "cell_type": "markdown",
   "source": "Some dataset attributes expose the properties of all dataset bands via a tuple of values, one per band. To get a mapping of band indexes to variable data types, apply a dictionary comprehension to the zip() product of a dataset’s DatasetReader.indexes and DatasetReader.dtypes attributes.",
   "id": "93258aebb24b4e0f"
  },
  {
   "metadata": {
    "ExecuteTime": {
     "end_time": "2024-12-20T13:09:52.634078Z",
     "start_time": "2024-12-20T13:09:52.624657Z"
    }
   },
   "cell_type": "code",
   "source": "{i: dtype for i, dtype in zip(dataset.indexes, dataset.dtypes)}",
   "id": "a66f28a05ae7545",
   "outputs": [
    {
     "data": {
      "text/plain": [
       "{1: 'uint8'}"
      ]
     },
     "execution_count": 14,
     "metadata": {},
     "output_type": "execute_result"
    }
   ],
   "execution_count": 14
  },
  {
   "metadata": {},
   "cell_type": "markdown",
   "source": "The example file’s sole band contains unsigned 16-bit [8 bits here !!!] integer values. The GeoTIFF format also supports signed integers and floats of different size.",
   "id": "f29fa6bd3defbc9c"
  },
  {
   "metadata": {},
   "cell_type": "code",
   "outputs": [],
   "execution_count": null,
   "source": [
    "### Dataset georeferencing\n",
    "\n",
    "A GIS raster dataset is different from an ordinary image; its elements (or “pixels”) are mapped to regions on the earth’s surface. Every pixels of a dataset is contained within a spatial bounding box."
   ],
   "id": "c926182ae9790afe"
  },
  {
   "metadata": {
    "ExecuteTime": {
     "end_time": "2024-12-20T13:25:35.282021Z",
     "start_time": "2024-12-20T13:25:35.273349Z"
    }
   },
   "cell_type": "code",
   "source": "dataset.bounds",
   "id": "c2834db8a513504b",
   "outputs": [
    {
     "data": {
      "text/plain": [
       "BoundingBox(left=101985.0, bottom=2611485.0, right=339315.0, top=2826915.0)"
      ]
     },
     "execution_count": 15,
     "metadata": {},
     "output_type": "execute_result"
    }
   ],
   "execution_count": 15
  },
  {
   "metadata": {},
   "cell_type": "markdown",
   "source": [
    "Our example covers the world from 358485 meters (in this case) to 590415 meters, left to right, and 4028985 meters to 4265115 meters bottom to top. It covers a region 231.93 kilometers wide by 236.13 kilometers high.\n",
    "\n",
    "The value of `DatasetReader.bounds` attribute is derived from a more fundamental attribute: the dataset’s geospatial transform."
   ],
   "id": "824b9fc2f4a998b7"
  },
  {
   "metadata": {
    "ExecuteTime": {
     "end_time": "2024-12-20T13:28:05.437480Z",
     "start_time": "2024-12-20T13:28:05.428114Z"
    }
   },
   "cell_type": "code",
   "source": "dataset.transform",
   "id": "b7b9a0f8d81298cf",
   "outputs": [
    {
     "data": {
      "text/plain": [
       "Affine(300.0379266750948, 0.0, 101985.0,\n",
       "       0.0, -300.041782729805, 2826915.0)"
      ]
     },
     "execution_count": 16,
     "metadata": {},
     "output_type": "execute_result"
    }
   ],
   "execution_count": 16
  },
  {
   "metadata": {},
   "cell_type": "markdown",
   "source": [
    "## Tutoriel sur Rasterio en Python\n",
    "\n",
    "Ce tutoriel présente l'utilisation de Rasterio, une bibliothèque Python puissante pour travailler avec des données raster géospatiales, notamment dans le traitement d'images satellites. Voici un aperçu des étapes clés pour lire, traiter et visualiser des images satellites à l'aide de Rasterio.\n",
    "\n",
    "### Lecture des images satellites\n",
    "\n",
    "La première étape consiste à lire les données d'image dans un objet de dataset Rasterio. Utilisez la fonction open() pour cela :\n",
    "\n",
    "\n"
   ],
   "id": "17248f8ea7b6668a"
  },
  {
   "metadata": {},
   "cell_type": "code",
   "outputs": [],
   "execution_count": null,
   "source": [
    "import rasterio\n",
    "\n",
    "with rasterio.open('image.tif') as dataset:\n",
    "    # Faites quelque chose avec l'objet dataset"
   ],
   "id": "3c49de514afa8de"
  },
  {
   "metadata": {},
   "cell_type": "markdown",
   "source": [
    "Exploration des métadonnées\n",
    "\n",
    "Une fois l'image ouverte, vous pouvez explorer ses métadonnées à l'aide des propriétés et méthodes de l'objet dataset :\n",
    "\n",
    "width = dataset.width\n",
    "height = dataset.height\n",
    "bounds = dataset.bounds  # Renvoie les coordonnées minimales et maximales\n",
    "\n",
    "Traitement des images satellites\n",
    "\n",
    "Après avoir lu l'image, vous pouvez effectuer diverses opérations de traitement :\n",
    "\n",
    "    Sous-ensembles : Sélectionnez une zone plus petite de l'image.\n",
    "    Reprojection : Changez le système de référence de coordonnées (CRS) de l'image.\n",
    "    Resampling : Modifiez la résolution de l'image.\n",
    "\n"
   ],
   "id": "78b09c00fb58e2fd"
  },
  {
   "metadata": {},
   "cell_type": "markdown",
   "source": [
    "Exemple de sous-ensemble\n",
    "\n",
    "Pour extraire un sous-ensemble de l'image :\n",
    "\n",
    "subset_window = rasterio.windows.Window(100, 50, 100, 150)\n",
    "subset = dataset.read(window=subset_window)\n",
    "\n",
    "Exemple de reprojection\n",
    "\n",
    "Pour reprojeter une image :\n",
    "\n",
    "from rasterio.crs import CRS\n",
    "\n",
    "dst_crs = CRS.from_epsg(4326)  # WGS84 CRS\n",
    "reprojected = rasterio.warp.reproject(\n",
    "    dataset.read(),\n",
    "    src_crs=dataset.crs,\n",
    "    dst_crs=dst_crs,\n",
    "    resampling=rasterio.enums.Resampling.nearest\n",
    ")\n",
    "\n",
    "Exemple de resampling\n",
    "\n",
    "Pour changer la résolution d'une image :\n",
    "\n",
    "import numpy as np\n",
    "\n",
    "resampled = np.empty((dataset.count, int(dataset.height / 2), int(dataset.width / 2)), dtype=dataset.dtypes[0])\n",
    "rasterio.warp.reproject(\n",
    "    dataset.read(),\n",
    "    dataset.transform,\n",
    "    out_shape=(dataset.count, int(dataset.height / 2), int(dataset.width / 2)),\n",
    "    resampling=rasterio.enums.Resampling.bilinear,\n",
    "    out=resampled\n",
    ")\n",
    "\n",
    "Visualisation des images satellites\n",
    "\n",
    "Enfin, vous pouvez visualiser les résultats en utilisant des bibliothèques de traçage comme matplotlib :\n",
    "\n",
    "import matplotlib.pyplot as plt\n",
    "\n",
    "fig, (ax1, ax2) = plt.subplots(ncols=2, figsize=(12, 6))\n",
    "ax1.imshow(subset[0], cmap='gray')\n",
    "ax1.set_title('Sous-ensemble de l\\'image originale')\n",
    "ax2.imshow(reprojected[0], cmap='gray')\n",
    "ax2.set_title('Image reprojetée')\n",
    "plt.show()"
   ],
   "id": "716e3e8e21558473"
  }
 ],
 "metadata": {
  "kernelspec": {
   "name": "python3",
   "language": "python",
   "display_name": "Python 3 (ipykernel)"
  }
 },
 "nbformat": 5,
 "nbformat_minor": 9
}
